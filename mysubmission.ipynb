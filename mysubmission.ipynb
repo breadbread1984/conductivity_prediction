{
 "cells": [
  {
   "cell_type": "code",
   "execution_count": 1,
   "id": "7ac62622-3eac-4df7-a292-df318388fb5a",
   "metadata": {},
   "outputs": [
    {
     "name": "stdout",
     "output_type": "stream",
     "text": [
      "Requirement already satisfied: rdkit==2023.9.3 in /home/breadbread1984/envs/tf2/lib/python3.11/site-packages (2023.9.3)\n",
      "Requirement already satisfied: mordred==1.2.0 in /home/breadbread1984/envs/tf2/lib/python3.11/site-packages (1.2.0)\n",
      "Requirement already satisfied: networkx==2.8.4 in /home/breadbread1984/envs/tf2/lib/python3.11/site-packages (2.8.4)\n",
      "Requirement already satisfied: numpy==1.23.5 in /home/breadbread1984/envs/tf2/lib/python3.11/site-packages (1.23.5)\n",
      "Requirement already satisfied: nose-py3 in /home/breadbread1984/envs/tf2/lib/python3.11/site-packages (1.6.3)\n",
      "Requirement already satisfied: pandas in /home/breadbread1984/envs/tf2/lib/python3.11/site-packages (2.1.4)\n",
      "Requirement already satisfied: pyyaml in /home/breadbread1984/envs/tf2/lib/python3.11/site-packages (6.0.1)\n",
      "Requirement already satisfied: tensorflow in /home/breadbread1984/envs/tf2/lib/python3.11/site-packages (2.14.0)\n",
      "Requirement already satisfied: wget in /home/breadbread1984/envs/tf2/lib/python3.11/site-packages (3.2)\n",
      "Requirement already satisfied: Pillow in /home/breadbread1984/envs/tf2/lib/python3.11/site-packages (from rdkit==2023.9.3) (10.2.0)\n",
      "Requirement already satisfied: six==1.* in /home/breadbread1984/envs/tf2/lib/python3.11/site-packages (from mordred==1.2.0) (1.16.0)\n",
      "Requirement already satisfied: coverage in /home/breadbread1984/envs/tf2/lib/python3.11/site-packages (from nose-py3) (7.4.0)\n",
      "Requirement already satisfied: sphinx in /home/breadbread1984/envs/tf2/lib/python3.11/site-packages (from nose-py3) (7.2.6)\n",
      "Requirement already satisfied: 2to3 in /home/breadbread1984/envs/tf2/lib/python3.11/site-packages (from nose-py3) (1.0)\n",
      "Requirement already satisfied: python-dateutil>=2.8.2 in /home/breadbread1984/envs/tf2/lib/python3.11/site-packages (from pandas) (2.8.2)\n",
      "Requirement already satisfied: pytz>=2020.1 in /home/breadbread1984/envs/tf2/lib/python3.11/site-packages (from pandas) (2023.3.post1)\n",
      "Requirement already satisfied: tzdata>=2022.1 in /home/breadbread1984/envs/tf2/lib/python3.11/site-packages (from pandas) (2023.4)\n",
      "Requirement already satisfied: absl-py>=1.0.0 in /home/breadbread1984/envs/tf2/lib/python3.11/site-packages (from tensorflow) (1.4.0)\n",
      "Requirement already satisfied: astunparse>=1.6.0 in /home/breadbread1984/envs/tf2/lib/python3.11/site-packages (from tensorflow) (1.6.3)\n",
      "Requirement already satisfied: flatbuffers>=23.5.26 in /home/breadbread1984/envs/tf2/lib/python3.11/site-packages (from tensorflow) (23.5.26)\n",
      "Requirement already satisfied: gast!=0.5.0,!=0.5.1,!=0.5.2,>=0.2.1 in /home/breadbread1984/envs/tf2/lib/python3.11/site-packages (from tensorflow) (0.5.4)\n",
      "Requirement already satisfied: google-pasta>=0.1.1 in /home/breadbread1984/envs/tf2/lib/python3.11/site-packages (from tensorflow) (0.2.0)\n",
      "Requirement already satisfied: h5py>=2.9.0 in /home/breadbread1984/envs/tf2/lib/python3.11/site-packages (from tensorflow) (3.10.0)\n",
      "Requirement already satisfied: libclang>=13.0.0 in /home/breadbread1984/envs/tf2/lib/python3.11/site-packages (from tensorflow) (16.0.6)\n",
      "Requirement already satisfied: ml-dtypes==0.2.0 in /home/breadbread1984/envs/tf2/lib/python3.11/site-packages (from tensorflow) (0.2.0)\n",
      "Requirement already satisfied: opt-einsum>=2.3.2 in /home/breadbread1984/envs/tf2/lib/python3.11/site-packages (from tensorflow) (3.3.0)\n",
      "Requirement already satisfied: packaging in /home/breadbread1984/envs/tf2/lib/python3.11/site-packages (from tensorflow) (23.2)\n",
      "Requirement already satisfied: protobuf!=4.21.0,!=4.21.1,!=4.21.2,!=4.21.3,!=4.21.4,!=4.21.5,<5.0.0dev,>=3.20.3 in /home/breadbread1984/envs/tf2/lib/python3.11/site-packages (from tensorflow) (3.20.3)\n",
      "Requirement already satisfied: setuptools in /home/breadbread1984/envs/tf2/lib/python3.11/site-packages (from tensorflow) (68.1.2)\n",
      "Requirement already satisfied: termcolor>=1.1.0 in /home/breadbread1984/envs/tf2/lib/python3.11/site-packages (from tensorflow) (2.4.0)\n",
      "Requirement already satisfied: typing-extensions>=3.6.6 in /home/breadbread1984/envs/tf2/lib/python3.11/site-packages (from tensorflow) (4.9.0)\n",
      "Requirement already satisfied: wrapt<1.15,>=1.11.0 in /home/breadbread1984/envs/tf2/lib/python3.11/site-packages (from tensorflow) (1.14.1)\n",
      "Requirement already satisfied: tensorflow-io-gcs-filesystem>=0.23.1 in /home/breadbread1984/envs/tf2/lib/python3.11/site-packages (from tensorflow) (0.35.0)\n",
      "Requirement already satisfied: grpcio<2.0,>=1.24.3 in /home/breadbread1984/envs/tf2/lib/python3.11/site-packages (from tensorflow) (1.60.0)\n",
      "Requirement already satisfied: tensorboard<2.15,>=2.14 in /home/breadbread1984/envs/tf2/lib/python3.11/site-packages (from tensorflow) (2.14.1)\n",
      "Requirement already satisfied: tensorflow-estimator<2.15,>=2.14.0 in /home/breadbread1984/envs/tf2/lib/python3.11/site-packages (from tensorflow) (2.14.0)\n",
      "Requirement already satisfied: keras<2.15,>=2.14.0 in /home/breadbread1984/envs/tf2/lib/python3.11/site-packages (from tensorflow) (2.14.0)\n",
      "Requirement already satisfied: wheel<1.0,>=0.23.0 in /home/breadbread1984/envs/tf2/lib/python3.11/site-packages (from astunparse>=1.6.0->tensorflow) (0.42.0)\n",
      "Requirement already satisfied: google-auth<3,>=1.6.3 in /home/breadbread1984/envs/tf2/lib/python3.11/site-packages (from tensorboard<2.15,>=2.14->tensorflow) (2.26.1)\n",
      "Requirement already satisfied: google-auth-oauthlib<1.1,>=0.5 in /home/breadbread1984/envs/tf2/lib/python3.11/site-packages (from tensorboard<2.15,>=2.14->tensorflow) (1.0.0)\n",
      "Requirement already satisfied: markdown>=2.6.8 in /home/breadbread1984/envs/tf2/lib/python3.11/site-packages (from tensorboard<2.15,>=2.14->tensorflow) (3.5.1)\n",
      "Requirement already satisfied: requests<3,>=2.21.0 in /home/breadbread1984/envs/tf2/lib/python3.11/site-packages (from tensorboard<2.15,>=2.14->tensorflow) (2.31.0)\n",
      "Requirement already satisfied: tensorboard-data-server<0.8.0,>=0.7.0 in /home/breadbread1984/envs/tf2/lib/python3.11/site-packages (from tensorboard<2.15,>=2.14->tensorflow) (0.7.2)\n",
      "Requirement already satisfied: werkzeug>=1.0.1 in /home/breadbread1984/envs/tf2/lib/python3.11/site-packages (from tensorboard<2.15,>=2.14->tensorflow) (3.0.1)\n",
      "Requirement already satisfied: sphinxcontrib-applehelp in /home/breadbread1984/envs/tf2/lib/python3.11/site-packages (from sphinx->nose-py3) (1.0.7)\n",
      "Requirement already satisfied: sphinxcontrib-devhelp in /home/breadbread1984/envs/tf2/lib/python3.11/site-packages (from sphinx->nose-py3) (1.0.5)\n",
      "Requirement already satisfied: sphinxcontrib-jsmath in /home/breadbread1984/envs/tf2/lib/python3.11/site-packages (from sphinx->nose-py3) (1.0.1)\n",
      "Requirement already satisfied: sphinxcontrib-htmlhelp>=2.0.0 in /home/breadbread1984/envs/tf2/lib/python3.11/site-packages (from sphinx->nose-py3) (2.0.4)\n",
      "Requirement already satisfied: sphinxcontrib-serializinghtml>=1.1.9 in /home/breadbread1984/envs/tf2/lib/python3.11/site-packages (from sphinx->nose-py3) (1.1.9)\n",
      "Requirement already satisfied: sphinxcontrib-qthelp in /home/breadbread1984/envs/tf2/lib/python3.11/site-packages (from sphinx->nose-py3) (1.0.6)\n",
      "Requirement already satisfied: Jinja2>=3.0 in /home/breadbread1984/envs/tf2/lib/python3.11/site-packages (from sphinx->nose-py3) (3.1.3)\n",
      "Requirement already satisfied: Pygments>=2.14 in /home/breadbread1984/envs/tf2/lib/python3.11/site-packages (from sphinx->nose-py3) (2.17.2)\n",
      "Requirement already satisfied: docutils<0.21,>=0.18.1 in /home/breadbread1984/envs/tf2/lib/python3.11/site-packages (from sphinx->nose-py3) (0.20.1)\n",
      "Requirement already satisfied: snowballstemmer>=2.0 in /home/breadbread1984/envs/tf2/lib/python3.11/site-packages (from sphinx->nose-py3) (2.2.0)\n",
      "Requirement already satisfied: babel>=2.9 in /home/breadbread1984/envs/tf2/lib/python3.11/site-packages (from sphinx->nose-py3) (2.14.0)\n",
      "Requirement already satisfied: alabaster<0.8,>=0.7 in /home/breadbread1984/envs/tf2/lib/python3.11/site-packages (from sphinx->nose-py3) (0.7.16)\n",
      "Requirement already satisfied: imagesize>=1.3 in /home/breadbread1984/envs/tf2/lib/python3.11/site-packages (from sphinx->nose-py3) (1.4.1)\n",
      "Requirement already satisfied: cachetools<6.0,>=2.0.0 in /home/breadbread1984/envs/tf2/lib/python3.11/site-packages (from google-auth<3,>=1.6.3->tensorboard<2.15,>=2.14->tensorflow) (5.3.2)\n",
      "Requirement already satisfied: pyasn1-modules>=0.2.1 in /home/breadbread1984/envs/tf2/lib/python3.11/site-packages (from google-auth<3,>=1.6.3->tensorboard<2.15,>=2.14->tensorflow) (0.3.0)\n",
      "Requirement already satisfied: rsa<5,>=3.1.4 in /home/breadbread1984/envs/tf2/lib/python3.11/site-packages (from google-auth<3,>=1.6.3->tensorboard<2.15,>=2.14->tensorflow) (4.9)\n",
      "Requirement already satisfied: requests-oauthlib>=0.7.0 in /home/breadbread1984/envs/tf2/lib/python3.11/site-packages (from google-auth-oauthlib<1.1,>=0.5->tensorboard<2.15,>=2.14->tensorflow) (1.3.1)\n",
      "Requirement already satisfied: MarkupSafe>=2.0 in /home/breadbread1984/envs/tf2/lib/python3.11/site-packages (from Jinja2>=3.0->sphinx->nose-py3) (2.1.3)\n",
      "Requirement already satisfied: charset-normalizer<4,>=2 in /home/breadbread1984/envs/tf2/lib/python3.11/site-packages (from requests<3,>=2.21.0->tensorboard<2.15,>=2.14->tensorflow) (3.3.2)\n",
      "Requirement already satisfied: idna<4,>=2.5 in /home/breadbread1984/envs/tf2/lib/python3.11/site-packages (from requests<3,>=2.21.0->tensorboard<2.15,>=2.14->tensorflow) (3.6)\n",
      "Requirement already satisfied: urllib3<3,>=1.21.1 in /home/breadbread1984/envs/tf2/lib/python3.11/site-packages (from requests<3,>=2.21.0->tensorboard<2.15,>=2.14->tensorflow) (2.1.0)\n",
      "Requirement already satisfied: certifi>=2017.4.17 in /home/breadbread1984/envs/tf2/lib/python3.11/site-packages (from requests<3,>=2.21.0->tensorboard<2.15,>=2.14->tensorflow) (2023.11.17)\n",
      "Requirement already satisfied: pyasn1<0.6.0,>=0.4.6 in /home/breadbread1984/envs/tf2/lib/python3.11/site-packages (from pyasn1-modules>=0.2.1->google-auth<3,>=1.6.3->tensorboard<2.15,>=2.14->tensorflow) (0.5.1)\n",
      "Requirement already satisfied: oauthlib>=3.0.0 in /home/breadbread1984/envs/tf2/lib/python3.11/site-packages (from requests-oauthlib>=0.7.0->google-auth-oauthlib<1.1,>=0.5->tensorboard<2.15,>=2.14->tensorflow) (3.2.2)\n"
     ]
    }
   ],
   "source": [
    "!pip install rdkit==2023.9.3 mordred==1.2.0 networkx==2.8.4 numpy==1.23.5 nose-py3 pandas pyyaml tensorflow wget"
   ]
  },
  {
   "cell_type": "code",
   "execution_count": 2,
   "id": "4d075a5a-4fc4-4200-8d34-847b92f91ef5",
   "metadata": {},
   "outputs": [
    {
     "name": "stderr",
     "output_type": "stream",
     "text": [
      "2024-02-02 09:42:54.334998: I tensorflow/core/util/port.cc:111] oneDNN custom operations are on. You may see slightly different numerical results due to floating-point round-off errors from different computation orders. To turn them off, set the environment variable `TF_ENABLE_ONEDNN_OPTS=0`.\n",
      "2024-02-02 09:42:54.336596: I tensorflow/tsl/cuda/cudart_stub.cc:28] Could not find cuda drivers on your machine, GPU will not be used.\n",
      "2024-02-02 09:42:54.360174: E tensorflow/compiler/xla/stream_executor/cuda/cuda_dnn.cc:9342] Unable to register cuDNN factory: Attempting to register factory for plugin cuDNN when one has already been registered\n",
      "2024-02-02 09:42:54.360205: E tensorflow/compiler/xla/stream_executor/cuda/cuda_fft.cc:609] Unable to register cuFFT factory: Attempting to register factory for plugin cuFFT when one has already been registered\n",
      "2024-02-02 09:42:54.360231: E tensorflow/compiler/xla/stream_executor/cuda/cuda_blas.cc:1518] Unable to register cuBLAS factory: Attempting to register factory for plugin cuBLAS when one has already been registered\n",
      "2024-02-02 09:42:54.365306: I tensorflow/tsl/cuda/cudart_stub.cc:28] Could not find cuda drivers on your machine, GPU will not be used.\n",
      "2024-02-02 09:42:54.366459: I tensorflow/core/platform/cpu_feature_guard.cc:182] This TensorFlow binary is optimized to use available CPU instructions in performance-critical operations.\n",
      "To enable the following instructions: AVX2 AVX_VNNI FMA, in other operations, rebuild TensorFlow with the appropriate compiler flags.\n",
      "2024-02-02 09:42:55.134476: W tensorflow/compiler/tf2tensorrt/utils/py_utils.cc:38] TF-TRT Warning: Could not find TensorRT\n"
     ]
    }
   ],
   "source": [
    "import tensorflow as tf\n",
    "\n",
    "class GraphConvolution(tf.keras.layers.Layer):\n",
    "  def __init__(self, **kwargs):\n",
    "    super(GraphConvolution, self).__init__(**kwargs)\n",
    "  def build(self, input_shape):\n",
    "    self.bias = self.add_weight(name = 'bias', shape = (1,1,input_shape[1][-1]), initializer = tf.keras.initializers.GlorotUniform(), trainable = True)\n",
    "  def call(self, inputs):\n",
    "    # adjacent.shape = (batch, atom_num, atom_num)\n",
    "    # annotations.shape = (batch, atom_num, in_channel)\n",
    "    adjacent, annotations = inputs\n",
    "    results = list()\n",
    "    # NOTE: sparse_dense_matmul doesn't support matrix with batch dimension\n",
    "    for i in range(tf.shape(adjacent)[0]):\n",
    "      adj = tf.sparse.slice(adjacent, [i,0,0], [1,tf.shape(adjacent)[1],tf.shape(adjacent)[2]])\n",
    "      adj = tf.sparse.reshape(adj, [tf.shape(adjacent)[1], tf.shape(adjacent)[2]])\n",
    "      results.append(tf.sparse.sparse_dense_matmul(adj, annotations[i])) # results.shape = (batch, atom_num, in_channel)\n",
    "    results = tf.stack(results, axis = 0)\n",
    "    results = results + self.bias\n",
    "    return results\n",
    "\n",
    "class GatedGraphConvolution(tf.keras.Model):\n",
    "  def __init__(self, channels, **kwargs):\n",
    "    super(GatedGraphConvolution, self).__init__(**kwargs)\n",
    "    self.gc = GraphConvolution()\n",
    "    self.gru = tf.keras.layers.GRU(channels)\n",
    "    self.channels = channels\n",
    "  def call(self, adjacent, annotations):\n",
    "    results = self.gc([adjacent, annotations]) # results.shape = (batch, atom_num, channels)\n",
    "    shape = tf.shape(results)\n",
    "    hidden_states = tf.reshape(annotations, (-1, self.channels)) # hidden_states.shape = (batch * atom_num, channels)\n",
    "    visible_states = tf.reshape(results, (-1, 1, self.channels)) # visible_states.shape = (batch * atom_num, 1, channels)\n",
    "    results = self.gru(visible_states, initial_state = hidden_states) # results.shape = (batch * atom_num, channels)\n",
    "    results = tf.reshape(results, shape) # results.shape = (batch, atom_num, channels)\n",
    "    return results\n",
    "\n",
    "class FeatureExtractor(tf.keras.Model):\n",
    "  def __init__(self, channels = 32, num_layers = 4, **kwargs):\n",
    "    super(FeatureExtractor, self).__init__(**kwargs)\n",
    "    self.embed = tf.keras.layers.Embedding(118, channels)\n",
    "    self.ggnns = [GatedGraphConvolution(channels) for i in range(num_layers)]\n",
    "    self.pool = tf.keras.layers.Lambda(lambda x: tf.math.reduce_mean(x, axis = 1))\n",
    "  def call(self, adjacent, annotations):\n",
    "    results = self.embed(annotations) # results.shape = (batch, atom_num, 32)\n",
    "    for ggnn in self.ggnns:\n",
    "      results = ggnn(adjacent, results)\n",
    "    # graph pooling\n",
    "    results = self.pool(results) # results.shape = (batch, 32)\n",
    "    return results\n",
    "\n",
    "class Predictor(tf.keras.Model):\n",
    "  def __init__(self, channels = 32, num_layers = 4, **kwargs):\n",
    "    super(Predictor, self).__init__(**kwargs)\n",
    "    self.extractor = FeatureExtractor(channels, num_layers, **kwargs)\n",
    "    self.dense = tf.keras.layers.Dense(1, activation = tf.keras.activations.sigmoid)\n",
    "  def call(self, adjacent, annotations):\n",
    "    results = self.extractor(adjacent, annotations)\n",
    "    results = self.dense(results)\n",
    "    return results\n"
   ]
  },
  {
   "cell_type": "code",
   "execution_count": 3,
   "id": "84163d86-7064-4984-93d6-3166902d6054",
   "metadata": {},
   "outputs": [
    {
     "name": "stdout",
     "output_type": "stream",
     "text": [
      "100% [...................................................] 20436715 / 20436715ckpt/\n",
      "ckpt/ckpt-21.index\n",
      "ckpt/events.out.tfevents.1706780381.dgxa100svr02.540029.0.v2\n",
      "ckpt/checkpoint\n",
      "ckpt/ckpt-21.data-00000-of-00001\n"
     ]
    },
    {
     "data": {
      "text/plain": [
       "<tensorflow.python.checkpoint.checkpoint.InitializationOnlyStatus at 0x7f648471dc90>"
      ]
     },
     "execution_count": 3,
     "metadata": {},
     "output_type": "execute_result"
    }
   ],
   "source": [
    "from wget import download\n",
    "from os import system\n",
    "from os.path import exists,join\n",
    "\n",
    "if not exists('ckpt.tar.gz'): download('https://gitee.com/breadbread1984/molecule_attributes_prediction/raw/master/ckpt.tar.gz')\n",
    "system('tar xzvf ckpt.tar.gz')\n",
    "predictor = Predictor(channels = 256, num_layers = 4)\n",
    "optimizer = tf.keras.optimizers.Adam(1e-2)\n",
    "checkpoint = tf.train.Checkpoint(model = predictor, optimizer = optimizer)\n",
    "checkpoint.restore(tf.train.latest_checkpoint(join('ckpt','ckpt')))"
   ]
  },
  {
   "cell_type": "code",
   "execution_count": 4,
   "id": "cc00d5c3-7784-46eb-8994-e08bd23591c4",
   "metadata": {},
   "outputs": [
    {
     "ename": "FileNotFoundError",
     "evalue": "[Errno 2] No such file or directory: '/bohr/ai4scup-cns-5zkz/v3/mol_test.csv'",
     "output_type": "error",
     "traceback": [
      "\u001b[0;31m---------------------------------------------------------------------------\u001b[0m",
      "\u001b[0;31mFileNotFoundError\u001b[0m                         Traceback (most recent call last)",
      "Cell \u001b[0;32mIn[4], line 24\u001b[0m\n\u001b[1;32m     21\u001b[0m     annotations \u001b[38;5;241m=\u001b[39m tf\u001b[38;5;241m.\u001b[39mcast(tf\u001b[38;5;241m.\u001b[39mstack(annotations), dtype \u001b[38;5;241m=\u001b[39m tf\u001b[38;5;241m.\u001b[39mint32) \u001b[38;5;66;03m# annotations.shape = (atom_num)\u001b[39;00m\n\u001b[1;32m     22\u001b[0m     \u001b[38;5;28;01mreturn\u001b[39;00m adjacent, annotations\n\u001b[0;32m---> 24\u001b[0m csv \u001b[38;5;241m=\u001b[39m \u001b[38;5;28;43mopen\u001b[39;49m\u001b[43m(\u001b[49m\u001b[38;5;124;43m'\u001b[39;49m\u001b[38;5;124;43m/bohr/ai4scup-cns-5zkz/v3/mol_test.csv\u001b[39;49m\u001b[38;5;124;43m'\u001b[39;49m\u001b[43m,\u001b[49m\u001b[43m \u001b[49m\u001b[38;5;124;43m'\u001b[39;49m\u001b[38;5;124;43mr\u001b[39;49m\u001b[38;5;124;43m'\u001b[39;49m\u001b[43m)\u001b[49m\n\u001b[1;32m     25\u001b[0m output \u001b[38;5;241m=\u001b[39m \u001b[38;5;28mopen\u001b[39m(\u001b[38;5;124m'\u001b[39m\u001b[38;5;124msubmission.csv\u001b[39m\u001b[38;5;124m'\u001b[39m, \u001b[38;5;124m'\u001b[39m\u001b[38;5;124mw\u001b[39m\u001b[38;5;124m'\u001b[39m)\n\u001b[1;32m     26\u001b[0m output\u001b[38;5;241m.\u001b[39mwrite(\u001b[38;5;124m'\u001b[39m\u001b[38;5;124mSMILES,TARGET\u001b[39m\u001b[38;5;130;01m\\n\u001b[39;00m\u001b[38;5;124m'\u001b[39m)\n",
      "File \u001b[0;32m~/envs/tf2/lib/python3.11/site-packages/IPython/core/interactiveshell.py:310\u001b[0m, in \u001b[0;36m_modified_open\u001b[0;34m(file, *args, **kwargs)\u001b[0m\n\u001b[1;32m    303\u001b[0m \u001b[38;5;28;01mif\u001b[39;00m file \u001b[38;5;129;01min\u001b[39;00m {\u001b[38;5;241m0\u001b[39m, \u001b[38;5;241m1\u001b[39m, \u001b[38;5;241m2\u001b[39m}:\n\u001b[1;32m    304\u001b[0m     \u001b[38;5;28;01mraise\u001b[39;00m \u001b[38;5;167;01mValueError\u001b[39;00m(\n\u001b[1;32m    305\u001b[0m         \u001b[38;5;124mf\u001b[39m\u001b[38;5;124m\"\u001b[39m\u001b[38;5;124mIPython won\u001b[39m\u001b[38;5;124m'\u001b[39m\u001b[38;5;124mt let you open fd=\u001b[39m\u001b[38;5;132;01m{\u001b[39;00mfile\u001b[38;5;132;01m}\u001b[39;00m\u001b[38;5;124m by default \u001b[39m\u001b[38;5;124m\"\u001b[39m\n\u001b[1;32m    306\u001b[0m         \u001b[38;5;124m\"\u001b[39m\u001b[38;5;124mas it is likely to crash IPython. If you know what you are doing, \u001b[39m\u001b[38;5;124m\"\u001b[39m\n\u001b[1;32m    307\u001b[0m         \u001b[38;5;124m\"\u001b[39m\u001b[38;5;124myou can use builtins\u001b[39m\u001b[38;5;124m'\u001b[39m\u001b[38;5;124m open.\u001b[39m\u001b[38;5;124m\"\u001b[39m\n\u001b[1;32m    308\u001b[0m     )\n\u001b[0;32m--> 310\u001b[0m \u001b[38;5;28;01mreturn\u001b[39;00m \u001b[43mio_open\u001b[49m\u001b[43m(\u001b[49m\u001b[43mfile\u001b[49m\u001b[43m,\u001b[49m\u001b[43m \u001b[49m\u001b[38;5;241;43m*\u001b[39;49m\u001b[43margs\u001b[49m\u001b[43m,\u001b[49m\u001b[43m \u001b[49m\u001b[38;5;241;43m*\u001b[39;49m\u001b[38;5;241;43m*\u001b[39;49m\u001b[43mkwargs\u001b[49m\u001b[43m)\u001b[49m\n",
      "\u001b[0;31mFileNotFoundError\u001b[0m: [Errno 2] No such file or directory: '/bohr/ai4scup-cns-5zkz/v3/mol_test.csv'"
     ]
    }
   ],
   "source": [
    "from rdkit import Chem\n",
    "\n",
    "def smiles_to_graph(smiles: str):\n",
    "    molecule = Chem.MolFromSmiles(smiles)\n",
    "    atom_num = len(molecule.GetAtoms())\n",
    "    annotations = list()\n",
    "    indices = list()\n",
    "    values = list()\n",
    "    for atom in molecule.GetAtoms():\n",
    "      idx = atom.GetIdx()\n",
    "      annotations.append(atom.GetAtomicNum())\n",
    "      for neighbor_atom in atom.GetNeighbors():\n",
    "        neighbor_idx = neighbor_atom.GetIdx()\n",
    "        indices.append((idx, neighbor_idx))\n",
    "        # FIXME: bond type is not shown in adjacent matrix\n",
    "        #bond_type = molecule.GetBondBetweenAtoms(idx, neighbor_idx).GetBondType()\n",
    "        values.append(1)\n",
    "    adjacent = tf.cast(tf.sparse.reorder(tf.sparse.SparseTensor(indices = indices, values = values, dense_shape = (atom_num, atom_num))), dtype = tf.float32)\n",
    "    row_sum = tf.sparse.reduce_sum(adjacent, axis = -1, keepdims = True) # row_sum.shape = (atom_num, 1)\n",
    "    adjacent = adjacent / row_sum # normalization\n",
    "    annotations = tf.cast(tf.stack(annotations), dtype = tf.int32) # annotations.shape = (atom_num)\n",
    "    return adjacent, annotations\n",
    "\n",
    "csv = open('/bohr/ai4scup-cns-5zkz/v3/mol_test.csv', 'r')\n",
    "output = open('submission.csv', 'w')\n",
    "output.write('SMILES,TARGET\\n')\n",
    "for line, row in enumerate(csv.readlines()):\n",
    "  if line == 0: continue\n",
    "  smiles, label = row.split(',')\n",
    "  adjacent, atoms = smiles_to_graph(smiles)\n",
    "  adjacent = tf.sparse.expand_dims(adjacent, axis = 0)\n",
    "  atoms = tf.expand_dims(atoms, axis = 0)\n",
    "  pred = predictor(adjacent, atoms)[0]\n",
    "  output.write(\"%s,1\" % (smiles, 1 if pred > 0.5 else 0) + '\\n')\n",
    "output.close()\n",
    "csv.close()"
   ]
  },
  {
   "cell_type": "code",
   "execution_count": null,
   "id": "49f50883-cdfc-430b-af2f-facf7b9f016b",
   "metadata": {},
   "outputs": [],
   "source": []
  }
 ],
 "metadata": {
  "kernelspec": {
   "display_name": "Python 3 (ipykernel)",
   "language": "python",
   "name": "python3"
  },
  "language_info": {
   "codemirror_mode": {
    "name": "ipython",
    "version": 3
   },
   "file_extension": ".py",
   "mimetype": "text/x-python",
   "name": "python",
   "nbconvert_exporter": "python",
   "pygments_lexer": "ipython3",
   "version": "3.11.6"
  }
 },
 "nbformat": 4,
 "nbformat_minor": 5
}
